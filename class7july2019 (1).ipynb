{
 "cells": [
  {
   "cell_type": "code",
   "execution_count": 1,
   "metadata": {},
   "outputs": [],
   "source": [
    "def name(fname,lname):\n",
    "    print(f\"first name:{fname}\")\n",
    "    print(f\"Last naem:{lname}\")"
   ]
  },
  {
   "cell_type": "code",
   "execution_count": 3,
   "metadata": {},
   "outputs": [
    {
     "name": "stdout",
     "output_type": "stream",
     "text": [
      "first name:anwer\n",
      "Last naem:sana\n"
     ]
    }
   ],
   "source": [
    "name('anwer','sana')"
   ]
  },
  {
   "cell_type": "code",
   "execution_count": 5,
   "metadata": {},
   "outputs": [
    {
     "name": "stdout",
     "output_type": "stream",
     "text": [
      "first name:sana\n",
      "Last naem:anwer\n"
     ]
    }
   ],
   "source": [
    "name(lname='anwer',fname='sana')"
   ]
  },
  {
   "cell_type": "code",
   "execution_count": 6,
   "metadata": {},
   "outputs": [],
   "source": [
    "def name(fname,mname,lname):\n",
    "    print(f\"first name:{fname}\")\n",
    "    print(f\"middlename:{mname}\")\n",
    "    print(f\"Last naem:{lname}\")\n",
    "    "
   ]
  },
  {
   "cell_type": "code",
   "execution_count": 7,
   "metadata": {},
   "outputs": [
    {
     "ename": "SyntaxError",
     "evalue": "positional argument follows keyword argument (<ipython-input-7-d6f7b22b662f>, line 1)",
     "output_type": "error",
     "traceback": [
      "\u001b[1;36m  File \u001b[1;32m\"<ipython-input-7-d6f7b22b662f>\"\u001b[1;36m, line \u001b[1;32m1\u001b[0m\n\u001b[1;33m    name(\"john\",mname=\"walton\",\"smith\")#keyword and positional argument\u001b[0m\n\u001b[1;37m                              ^\u001b[0m\n\u001b[1;31mSyntaxError\u001b[0m\u001b[1;31m:\u001b[0m positional argument follows keyword argument\n"
     ]
    }
   ],
   "source": [
    "name(\"john\",mname=\"walton\",\"smith\")#keyword and positional argument"
   ]
  },
  {
   "cell_type": "code",
   "execution_count": 10,
   "metadata": {},
   "outputs": [],
   "source": [
    "#keyword and positional arguments should be seprated\n",
    "def name(fname,lname,mname):\n",
    "    print(f\"first name:{fname}\")\n",
    "    print(f\"middlename:{mname}\")\n",
    "    print(f\"Last naem:{lname}\")\n",
    "    "
   ]
  },
  {
   "cell_type": "code",
   "execution_count": 11,
   "metadata": {},
   "outputs": [
    {
     "name": "stdout",
     "output_type": "stream",
     "text": [
      "first name:john\n",
      "middlename:walton\n",
      "Last naem:smith\n"
     ]
    }
   ],
   "source": [
    "name(\"john\",\"smith\",mname=\"walton\")#keyword and positional argument"
   ]
  },
  {
   "cell_type": "markdown",
   "metadata": {},
   "source": [
    "# Arbitrary Number Of Argument"
   ]
  },
  {
   "cell_type": "code",
   "execution_count": 12,
   "metadata": {},
   "outputs": [],
   "source": [
    "def pizza(size,flavour,*toppings):#unlimited arguments are defined by \n",
    "    print(size,flavour)\n",
    "    print(toppings)"
   ]
  },
  {
   "cell_type": "code",
   "execution_count": 13,
   "metadata": {},
   "outputs": [
    {
     "name": "stdout",
     "output_type": "stream",
     "text": [
      "large Tikka\n",
      "('Extra cheese', 'olives')\n"
     ]
    }
   ],
   "source": [
    "pizza(\"large\",\"Tikka\",\"Extra cheese\",\"olives\")"
   ]
  },
  {
   "cell_type": "code",
   "execution_count": 14,
   "metadata": {},
   "outputs": [
    {
     "name": "stdout",
     "output_type": "stream",
     "text": [
      "medium chicken tikka\n",
      "('fajita', 'extra cheesze', 'thin crust', 'olive')\n"
     ]
    }
   ],
   "source": [
    "pizza(\"medium\",\"chicken tikka\",\"fajita\",\"extra cheesze\",\"thin crust\",\"olive\")"
   ]
  },
  {
   "cell_type": "code",
   "execution_count": 15,
   "metadata": {},
   "outputs": [
    {
     "name": "stdout",
     "output_type": "stream",
     "text": [
      "small tikka\n",
      "()\n"
     ]
    }
   ],
   "source": [
    "pizza(\"small\",\"tikka\")"
   ]
  },
  {
   "cell_type": "code",
   "execution_count": 23,
   "metadata": {},
   "outputs": [],
   "source": [
    "def pizza(size,flavour,*toppings):#unlimited arguments are defined by \n",
    "   print(size,flavour,toppings)"
   ]
  },
  {
   "cell_type": "code",
   "execution_count": 24,
   "metadata": {},
   "outputs": [
    {
     "name": "stdout",
     "output_type": "stream",
     "text": [
      "medium chicken tikka ('papproni', 'jalapenoes', 'olive')\n"
     ]
    }
   ],
   "source": [
    "ans=pizza(\"medium\",\"chicken tikka\",'papproni','jalapenoes','olive')"
   ]
  },
  {
   "cell_type": "code",
   "execution_count": 25,
   "metadata": {},
   "outputs": [],
   "source": [
    "def car(make,model,**specs):\n",
    "    print(make,model)\n",
    "    print(specs)"
   ]
  },
  {
   "cell_type": "code",
   "execution_count": 26,
   "metadata": {},
   "outputs": [
    {
     "name": "stdout",
     "output_type": "stream",
     "text": [
      "toyota prius\n",
      "{'transmission': 'Automatic'}\n"
     ]
    }
   ],
   "source": [
    "car(\"toyota\",\"prius\",transmission=\"Automatic\")#Keyword will be a key"
   ]
  },
  {
   "cell_type": "code",
   "execution_count": 27,
   "metadata": {},
   "outputs": [
    {
     "name": "stdout",
     "output_type": "stream",
     "text": [
      "toyota prius\n",
      "{'transmission': 'Automatic', 'power': 'yes'}\n"
     ]
    }
   ],
   "source": [
    "car(\"toyota\",\"prius\",transmission=\"Automatic\",power=\"yes\")#it shows output in the form of dictionary"
   ]
  },
  {
   "cell_type": "markdown",
   "metadata": {},
   "source": [
    "# functions as a vareiable"
   ]
  },
  {
   "cell_type": "code",
   "execution_count": 35,
   "metadata": {},
   "outputs": [],
   "source": [
    "def add(c,d):\n",
    "    a=c+d\n",
    "    return a"
   ]
  },
  {
   "cell_type": "code",
   "execution_count": 36,
   "metadata": {},
   "outputs": [],
   "source": [
    "def sub(x,y):\n",
    "    b=x-y\n",
    "    return b"
   ]
  },
  {
   "cell_type": "code",
   "execution_count": 51,
   "metadata": {},
   "outputs": [
    {
     "name": "stdout",
     "output_type": "stream",
     "text": [
      "1\n"
     ]
    }
   ],
   "source": [
    "def div(a,b):\n",
    "    c=a//b# c=a//b will return whole number\n",
    "    return c\n",
    "result=div(5,2)\n",
    "print(result)"
   ]
  },
  {
   "cell_type": "code",
   "execution_count": 42,
   "metadata": {},
   "outputs": [],
   "source": [
    "result=add(2,2)+sub(6,3)"
   ]
  },
  {
   "cell_type": "code",
   "execution_count": 52,
   "metadata": {},
   "outputs": [
    {
     "name": "stdout",
     "output_type": "stream",
     "text": [
      "1\n"
     ]
    }
   ],
   "source": [
    "print(result) #or type result"
   ]
  },
  {
   "cell_type": "markdown",
   "metadata": {},
   "source": [
    "# while loop"
   ]
  },
  {
   "cell_type": "code",
   "execution_count": 55,
   "metadata": {},
   "outputs": [
    {
     "name": "stdout",
     "output_type": "stream",
     "text": [
      "10\n",
      "8\n",
      "6\n",
      "4\n",
      "2\n"
     ]
    }
   ],
   "source": [
    "for a in range(10,0,-2):\n",
    "    print(a)"
   ]
  },
  {
   "cell_type": "code",
   "execution_count": 61,
   "metadata": {},
   "outputs": [
    {
     "name": "stdout",
     "output_type": "stream",
     "text": [
      "0\n",
      "1\n",
      "2\n",
      "3\n",
      "4\n",
      "5\n",
      "6\n",
      "7\n",
      "8\n",
      "9\n"
     ]
    }
   ],
   "source": [
    "a=0\n",
    "\n",
    "while a<10:\n",
    "    print(a)\n",
    "    a=a+1"
   ]
  },
  {
   "cell_type": "code",
   "execution_count": 65,
   "metadata": {},
   "outputs": [
    {
     "name": "stdout",
     "output_type": "stream",
     "text": [
      "Enter a toppinga\n",
      "Enter a toppingb\n",
      "Enter a toppingc\n",
      "Enter a toppingd\n",
      "Enter a toppinge\n",
      "['a', 'b', 'c', 'd', 'e']\n"
     ]
    }
   ],
   "source": [
    "topping=[]\n",
    "for a in  range(5):\n",
    "    toppings=input(\"Enter a topping\")\n",
    "    topping.append(toppings)\n",
    "print(topping)"
   ]
  },
  {
   "cell_type": "code",
   "execution_count": 94,
   "metadata": {},
   "outputs": [
    {
     "name": "stdout",
     "output_type": "stream",
     "text": [
      "Enter Toppinga\n",
      "Enter Toppingb\n",
      "Enter Toppingc\n",
      "Enter Toppingq\n",
      "['a', 'b', 'c']\n"
     ]
    },
    {
     "data": {
      "text/plain": [
       "['a', 'c']"
      ]
     },
     "execution_count": 94,
     "metadata": {},
     "output_type": "execute_result"
    }
   ],
   "source": [
    "toppings=[]\n",
    "flag=True\n",
    "while flag:\n",
    "    topping=input(\"Enter Topping\")\n",
    "    if topping ==\"q\":\n",
    "        flag=False\n",
    "    else:\n",
    "            toppings.append(topping)\n",
    "   \n",
    "print(toppings)\n",
    "del toppings[1]\n",
    "toppings"
   ]
  },
  {
   "cell_type": "code",
   "execution_count": null,
   "metadata": {},
   "outputs": [
    {
     "name": "stdout",
     "output_type": "stream",
     "text": [
      "Enter size of pizzasmall\n",
      "small is not available\n",
      "Enter size of pizzalarge\n",
      "large is not available\n"
     ]
    }
   ],
   "source": [
    "#write a code\n",
    "availableflavor=[\"Fajita\",\"Tikka\",\"Mexican\"]\n",
    "availablesize=[\"Pan\",\"Med\",\"Large\"]\n",
    "availabletopping=[\"Olive\",\"Hurbs\",\"chesse\"]\n",
    "\n",
    "flag=True\n",
    "while flag:\n",
    "    size=input(\"Enter size of pizza\")\n",
    "    print(\"Available sizes are {availablesize}\")\n",
    "    if size not in availablesize:\n",
    "        print(f\"{size} is not available\")\n",
    "    \n",
    "    \n",
    "    \n",
    "    \n",
    "    \n",
    "    \n",
    "    \n",
    "    \n",
    "    "
   ]
  },
  {
   "cell_type": "code",
   "execution_count": null,
   "metadata": {},
   "outputs": [],
   "source": []
  }
 ],
 "metadata": {
  "kernelspec": {
   "display_name": "Python 3",
   "language": "python",
   "name": "python3"
  },
  "language_info": {
   "codemirror_mode": {
    "name": "ipython",
    "version": 3
   },
   "file_extension": ".py",
   "mimetype": "text/x-python",
   "name": "python",
   "nbconvert_exporter": "python",
   "pygments_lexer": "ipython3",
   "version": "3.7.3"
  }
 },
 "nbformat": 4,
 "nbformat_minor": 2
}
